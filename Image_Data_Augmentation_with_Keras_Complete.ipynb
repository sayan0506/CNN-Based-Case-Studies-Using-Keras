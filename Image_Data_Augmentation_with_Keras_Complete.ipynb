{
  "nbformat": 4,
  "nbformat_minor": 0,
  "metadata": {
    "kernelspec": {
      "display_name": "Python 3",
      "language": "python",
      "name": "python3"
    },
    "language_info": {
      "codemirror_mode": {
        "name": "ipython",
        "version": 3
      },
      "file_extension": ".py",
      "mimetype": "text/x-python",
      "name": "python",
      "nbconvert_exporter": "python",
      "pygments_lexer": "ipython3",
      "version": "3.6.8"
    },
    "colab": {
      "name": "Image Data Augmentation with Keras - Complete.ipynb",
      "provenance": [],
      "include_colab_link": true
    }
  },
  "cells": [
    {
      "cell_type": "markdown",
      "metadata": {
        "id": "view-in-github",
        "colab_type": "text"
      },
      "source": [
        "<a href=\"https://colab.research.google.com/github/sayan0506/CNN-based-Classification-problem-using-Keras/blob/master/Image_Data_Augmentation_with_Keras_Complete.ipynb\" target=\"_parent\"><img src=\"https://colab.research.google.com/assets/colab-badge.svg\" alt=\"Open In Colab\"/></a>"
      ]
    },
    {
      "cell_type": "markdown",
      "metadata": {
        "id": "kPHg3SoPuh2A",
        "colab_type": "text"
      },
      "source": [
        "# Image Data Augmentation with Keras\n",
        "\n",
        "![Horizontal Flip](assets/horizontal_flip.jpg)"
      ]
    },
    {
      "cell_type": "markdown",
      "metadata": {
        "id": "kPxf6bBxuh2C",
        "colab_type": "text"
      },
      "source": [
        "# Task 1: Import Libraries"
      ]
    },
    {
      "cell_type": "code",
      "metadata": {
        "id": "XMOHULuSuh2E",
        "colab_type": "code",
        "colab": {}
      },
      "source": [
        "%matplotlib inline\n",
        "\n",
        "import os\n",
        "import numpy as np\n",
        "import tensorflow as tf\n",
        "\n",
        "from PIL import Image\n",
        "from matplotlib import pyplot as plt\n",
        "\n",
        "print('Using TensorFlow', tf.__version__)"
      ],
      "execution_count": null,
      "outputs": []
    },
    {
      "cell_type": "markdown",
      "metadata": {
        "id": "G_q8XuiFuh2U",
        "colab_type": "text"
      },
      "source": [
        "# Task 2: Rotation"
      ]
    },
    {
      "cell_type": "code",
      "metadata": {
        "id": "TV83Q87Yuh2W",
        "colab_type": "code",
        "colab": {}
      },
      "source": [
        "generator = tf.keras.preprocessing.image.ImageDataGenerator(\n",
        "    rotation_range=40\n",
        ")"
      ],
      "execution_count": null,
      "outputs": []
    },
    {
      "cell_type": "code",
      "metadata": {
        "id": "m4Q8QeqUuh2h",
        "colab_type": "code",
        "colab": {}
      },
      "source": [
        "image_path = 'images/train/cat/cat.jpg'\n",
        "\n",
        "plt.imshow(plt.imread(image_path));"
      ],
      "execution_count": null,
      "outputs": []
    },
    {
      "cell_type": "code",
      "metadata": {
        "id": "Mw1D0-cGuh2t",
        "colab_type": "code",
        "colab": {}
      },
      "source": [
        "x, y = next(generator.flow_from_directory('images', batch_size=1))\n",
        "plt.imshow(x[0].astype('uint8'));"
      ],
      "execution_count": null,
      "outputs": []
    },
    {
      "cell_type": "markdown",
      "metadata": {
        "id": "7UiE8LGmuh3e",
        "colab_type": "text"
      },
      "source": [
        "# Task 3: Width and Height Shifts"
      ]
    },
    {
      "cell_type": "code",
      "metadata": {
        "id": "oK19gLgguh3f",
        "colab_type": "code",
        "colab": {}
      },
      "source": [
        "generator = tf.keras.preprocessing.image.ImageDataGenerator(\n",
        "    width_shift_range=[-40, -20, 0, 20, 40],\n",
        "    height_shift_range=[-50,50]\n",
        ")"
      ],
      "execution_count": null,
      "outputs": []
    },
    {
      "cell_type": "code",
      "metadata": {
        "id": "28qCs4OTuh3q",
        "colab_type": "code",
        "colab": {}
      },
      "source": [
        "x, y = next(generator.flow_from_directory('images', batch_size=1))\n",
        "plt.imshow(x[0].astype('uint8'));"
      ],
      "execution_count": null,
      "outputs": []
    },
    {
      "cell_type": "markdown",
      "metadata": {
        "id": "XXAbwJGauh30",
        "colab_type": "text"
      },
      "source": [
        "# Task 4: Brightness"
      ]
    },
    {
      "cell_type": "code",
      "metadata": {
        "id": "Bjtvj1_Wuh34",
        "colab_type": "code",
        "colab": {}
      },
      "source": [
        "generator = tf.keras.preprocessing.image.ImageDataGenerator(\n",
        "    brightness_range=(0., 2.)\n",
        ")\n",
        "\n",
        "x, y = next(generator.flow_from_directory('images', batch_size=1))\n",
        "plt.imshow(x[0].astype('uint8'));"
      ],
      "execution_count": null,
      "outputs": []
    },
    {
      "cell_type": "markdown",
      "metadata": {
        "id": "q4Rd7hNXuh4D",
        "colab_type": "text"
      },
      "source": [
        "# Task 5: Shear Transformation"
      ]
    },
    {
      "cell_type": "code",
      "metadata": {
        "id": "MOn5B_BNuh4E",
        "colab_type": "code",
        "colab": {}
      },
      "source": [
        "generator = tf.keras.preprocessing.image.ImageDataGenerator(\n",
        "    shear_range=45\n",
        ")\n",
        "\n",
        "x, y = next(generator.flow_from_directory('images', batch_size=1))\n",
        "plt.imshow(x[0].astype('uint8'));"
      ],
      "execution_count": null,
      "outputs": []
    },
    {
      "cell_type": "markdown",
      "metadata": {
        "id": "nwOA8Pgcuh4P",
        "colab_type": "text"
      },
      "source": [
        "# Task 6: Zoom"
      ]
    },
    {
      "cell_type": "code",
      "metadata": {
        "id": "xkqBjLKxuh4S",
        "colab_type": "code",
        "colab": {}
      },
      "source": [
        "generator = tf.keras.preprocessing.image.ImageDataGenerator(\n",
        "    zoom_range=0.5\n",
        ")\n",
        "\n",
        "x, y = next(generator.flow_from_directory('images', batch_size=1))\n",
        "plt.imshow(x[0].astype('uint8'));"
      ],
      "execution_count": null,
      "outputs": []
    },
    {
      "cell_type": "markdown",
      "metadata": {
        "id": "QefSlSrnuh4f",
        "colab_type": "text"
      },
      "source": [
        "# Task 7: Channel Shift"
      ]
    },
    {
      "cell_type": "code",
      "metadata": {
        "id": "d1NJoNFKuh4i",
        "colab_type": "code",
        "colab": {}
      },
      "source": [
        "generator = tf.keras.preprocessing.image.ImageDataGenerator(\n",
        "    channel_shift_range=100\n",
        ")\n",
        "\n",
        "x, y = next(generator.flow_from_directory('images', batch_size=1))\n",
        "plt.imshow(x[0].astype('uint8'));"
      ],
      "execution_count": null,
      "outputs": []
    },
    {
      "cell_type": "markdown",
      "metadata": {
        "id": "GhmRtInNuh4v",
        "colab_type": "text"
      },
      "source": [
        "# Task 8: Flips"
      ]
    },
    {
      "cell_type": "code",
      "metadata": {
        "id": "XGtMLoKiuh41",
        "colab_type": "code",
        "colab": {}
      },
      "source": [
        "generator = tf.keras.preprocessing.image.ImageDataGenerator(\n",
        "    horizontal_flip=True,\n",
        "    vertical_flip=True\n",
        ")\n",
        "\n",
        "x, y = next(generator.flow_from_directory('images', batch_size=1))\n",
        "plt.imshow(x[0].astype('uint8'));"
      ],
      "execution_count": null,
      "outputs": []
    },
    {
      "cell_type": "markdown",
      "metadata": {
        "id": "NZjtXnJmuh4_",
        "colab_type": "text"
      },
      "source": [
        "# Task 9: Normalization\n",
        "\n",
        "### Featurewise"
      ]
    },
    {
      "cell_type": "code",
      "metadata": {
        "id": "GS7SzKzJuh5C",
        "colab_type": "code",
        "colab": {}
      },
      "source": [
        "(x_train, y_train), (x_test, y_test) = tf.keras.datasets.cifar10.load_data()\n",
        "\n",
        "generator = tf.keras.preprocessing.image.ImageDataGenerator(\n",
        "    featurewise_center=True,\n",
        "    featurewise_std_normalization=True\n",
        ")\n",
        "\n",
        "generator.fit(x_train)"
      ],
      "execution_count": null,
      "outputs": []
    },
    {
      "cell_type": "code",
      "metadata": {
        "id": "J9lHssKLuh5T",
        "colab_type": "code",
        "colab": {}
      },
      "source": [
        "x, y = next(generator.flow(x_train, y_train, batch_size=1))\n",
        "print(x.mean(), x.std(), y)\n",
        "print(x_train.mean())"
      ],
      "execution_count": null,
      "outputs": []
    },
    {
      "cell_type": "markdown",
      "metadata": {
        "id": "gxEK3wDHuh5p",
        "colab_type": "text"
      },
      "source": [
        "### Samplewise"
      ]
    },
    {
      "cell_type": "code",
      "metadata": {
        "id": "txGXqx0Auh5r",
        "colab_type": "code",
        "colab": {}
      },
      "source": [
        "generator = tf.keras.preprocessing.image.ImageDataGenerator(\n",
        "    samplewise_center=True,\n",
        "    samplewise_std_normalization=True\n",
        ")\n",
        "\n",
        "x, y = next(generator.flow(x_train, y_train, batch_size=1))\n",
        "print(x.mean(), x.std(), y)"
      ],
      "execution_count": null,
      "outputs": []
    },
    {
      "cell_type": "markdown",
      "metadata": {
        "id": "8Tv7IRyJuh5_",
        "colab_type": "text"
      },
      "source": [
        "# Task 10: Rescale and Preprocessing Function"
      ]
    },
    {
      "cell_type": "code",
      "metadata": {
        "id": "w_QdKL9ouh6f",
        "colab_type": "code",
        "colab": {}
      },
      "source": [
        "generator = tf.keras.preprocessing.image.ImageDataGenerator(\n",
        "    preprocessing_function=tf.keras.applications.mobilenet_v2.preprocess_input,\n",
        "    rescale=1.\n",
        ")"
      ],
      "execution_count": null,
      "outputs": []
    },
    {
      "cell_type": "code",
      "metadata": {
        "id": "U7GA5n-Vuh6o",
        "colab_type": "code",
        "colab": {}
      },
      "source": [
        "x, y = next(generator.flow(x_train, y_train, batch_size=1))"
      ],
      "execution_count": null,
      "outputs": []
    },
    {
      "cell_type": "code",
      "metadata": {
        "id": "LtgAdhAhuh6x",
        "colab_type": "code",
        "colab": {}
      },
      "source": [
        "print(x.mean(), x.std(), y)"
      ],
      "execution_count": null,
      "outputs": []
    },
    {
      "cell_type": "markdown",
      "metadata": {
        "id": "3Cb6g51cuh69",
        "colab_type": "text"
      },
      "source": [
        "# Task 11: Using in Model Training"
      ]
    },
    {
      "cell_type": "code",
      "metadata": {
        "id": "VAOKUMTwuh6-",
        "colab_type": "code",
        "colab": {}
      },
      "source": [
        "model = tf.keras.models.Sequential([\n",
        "    tf.keras.applications.mobilenet_v2.MobileNetV2(include_top=False, input_shape=(32, 32, 3), pooling='avg'),\n",
        "    tf.keras.layers.Dense(10, activation='softmax')\n",
        "])\n",
        "\n",
        "model.compile(loss='sparse_categorical_crossentropy', optimizer='adam', metrics=['accuracy'])"
      ],
      "execution_count": null,
      "outputs": []
    },
    {
      "cell_type": "code",
      "metadata": {
        "id": "xo_A6KaYuh7D",
        "colab_type": "code",
        "colab": {}
      },
      "source": [
        "_ = model.fit(\n",
        "    generator.flow(x_train, y_train, batch_size=32),\n",
        "    steps_per_epoch=10, epochs=1\n",
        ")"
      ],
      "execution_count": null,
      "outputs": []
    },
    {
      "cell_type": "code",
      "metadata": {
        "id": "X6VbfXj8uh7K",
        "colab_type": "code",
        "colab": {}
      },
      "source": [
        ""
      ],
      "execution_count": null,
      "outputs": []
    }
  ]
}