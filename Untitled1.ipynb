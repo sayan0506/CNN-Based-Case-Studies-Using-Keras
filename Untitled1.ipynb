{
  "nbformat": 4,
  "nbformat_minor": 0,
  "metadata": {
    "colab": {
      "name": "Untitled1.ipynb",
      "provenance": [],
      "collapsed_sections": [],
      "toc_visible": true,
      "mount_file_id": "1ln8f-5ebcj3oAwZ2EGe3iHcdWLMEyNIE",
      "authorship_tag": "ABX9TyPH4irvGSRXacO0pAz/1ggT",
      "include_colab_link": true
    },
    "kernelspec": {
      "name": "python3",
      "display_name": "Python 3"
    }
  },
  "cells": [
    {
      "cell_type": "markdown",
      "metadata": {
        "id": "view-in-github",
        "colab_type": "text"
      },
      "source": [
        "<a href=\"https://colab.research.google.com/github/sayan0506/CNN-based-Case-Studies-using-Keras/blob/master/Untitled1.ipynb\" target=\"_parent\"><img src=\"https://colab.research.google.com/assets/colab-badge.svg\" alt=\"Open In Colab\"/></a>"
      ]
    },
    {
      "cell_type": "markdown",
      "metadata": {
        "id": "eCJGLOuvwQn9",
        "colab_type": "text"
      },
      "source": [
        "# Classify SETI radio signal data from outer space using CNN based model using keras"
      ]
    },
    {
      "cell_type": "markdown",
      "metadata": {
        "id": "6oNn_tPlweXK",
        "colab_type": "text"
      },
      "source": [
        "Classifying 4 different types of radio signals from sequential data captured by **Allen Telescope** array in SETI in csv format, which in turn converted to 2D spectrogram data, where only initial time frame is considered for the classification problem."
      ]
    },
    {
      "cell_type": "code",
      "metadata": {
        "id": "ZMPrYFXIX2fa",
        "colab_type": "code",
        "colab": {}
      },
      "source": [
        "import tensorflow as tf\n",
        "import pandas as pd\n",
        "from matplotlib import pyplot as plt\n",
        "import numpy as np"
      ],
      "execution_count": null,
      "outputs": []
    },
    {
      "cell_type": "markdown",
      "metadata": {
        "id": "NEibd5K4xZIs",
        "colab_type": "text"
      },
      "source": [
        "# Data loading and preprocessing\n",
        "\n",
        "* The images are recorded in CSV format, where each of the row of images.csv dataset corresponding to both train anfd validation, represents pixel values for a (64,128,1) image.\n",
        "\n",
        "* As 2D spectrogram images are being considered for classification, thus single channel is considered here.\n",
        "\n",
        "* Each of the row of labels.csv consists of one hot encoding of classifiers."
      ]
    },
    {
      "cell_type": "code",
      "metadata": {
        "id": "0GSEqxM4xYl6",
        "colab_type": "code",
        "colab": {
          "base_uri": "https://localhost:8080/",
          "height": 84
        },
        "outputId": "3be9f65d-13b3-4ad4-b5f5-e38a9c4ab2a4"
      },
      "source": [
        "# Training dataframes\n",
        "train_image = pd.read_csv('/content/drive/My Drive/Seti dataset/Train/images.csv', header = None)\n",
        "train_label = pd.read_csv('/content/drive/My Drive/Seti dataset/Train/labels.csv', header = None)\n",
        "\n",
        "# Validation dataframes\n",
        "validation_image = pd.read_csv('/content/drive/My Drive/Seti dataset/Validation/images.csv',header = None)\n",
        "validation_label = pd.read_csv('/content/drive/My Drive/Seti dataset/Validation/labels.csv',header = None)\n",
        "\n",
        "print('Train image dataframe shape: {0}\\nTrain labels shape: {1}\\nValidation image shape: {2}\\nValidation label shape: {3}'.format(train_image.shape,train_label.shape,validation_image.shape,validation_label.shape))"
      ],
      "execution_count": null,
      "outputs": [
        {
          "output_type": "stream",
          "text": [
            "Train image dataframe shape: (3200, 8192)\n",
            "Train labels shape: (3200, 4)\n",
            "Validation image shape: (800, 8192)\n",
            "Validation label shape: (800, 4)\n"
          ],
          "name": "stdout"
        }
      ]
    },
    {
      "cell_type": "code",
      "metadata": {
        "id": "uaOOfqfFybNN",
        "colab_type": "code",
        "colab": {
          "base_uri": "https://localhost:8080/",
          "height": 470
        },
        "outputId": "5fa4307f-1f5e-4545-9a7f-3305fd0c58f4"
      },
      "source": [
        "print('Train image samples: \\n',train_image.head(3))\n",
        "print('\\nTrain label samples: \\n',train_label.head(3))\n",
        "print('\\nValidation image samples: \\n',validation_image.head(3))\n",
        "print('\\nValidation label samples: \\n',validation_label.head(3))"
      ],
      "execution_count": null,
      "outputs": [
        {
          "output_type": "stream",
          "text": [
            "Train image samples: \n",
            "        0         1         2     ...      8189      8190      8191\n",
            "0  0.631373  0.623529  0.713726  ...  0.694118  0.658824  0.666667\n",
            "1  0.725490  0.752941  0.749020  ...  0.698039  0.701961  0.725490\n",
            "2  0.717647  0.701961  0.713726  ...  0.678431  0.737255  0.674510\n",
            "\n",
            "[3 rows x 8192 columns]\n",
            "\n",
            "Train label samples: \n",
            "      0    1    2    3\n",
            "0  1.0  0.0  0.0  0.0\n",
            "1  1.0  0.0  0.0  0.0\n",
            "2  1.0  0.0  0.0  0.0\n",
            "\n",
            "Validation image samples: \n",
            "        0         1         2     ...      8189      8190      8191\n",
            "0  0.686275  0.725490  0.737255  ...  0.658824  0.705882  0.701961\n",
            "1  0.615686  0.631373  0.705882  ...  0.709804  0.705882  0.682353\n",
            "2  0.670588  0.690196  0.698039  ...  0.662745  0.717647  0.650980\n",
            "\n",
            "[3 rows x 8192 columns]\n",
            "\n",
            "Validation label samples: \n",
            "      0    1    2    3\n",
            "0  1.0  0.0  0.0  0.0\n",
            "1  1.0  0.0  0.0  0.0\n",
            "2  1.0  0.0  0.0  0.0\n"
          ],
          "name": "stdout"
        }
      ]
    },
    {
      "cell_type": "markdown",
      "metadata": {
        "id": "i1jvrhIW4FNt",
        "colab_type": "text"
      },
      "source": [
        "# Creating 2D Spectrograms from image dataframes"
      ]
    },
    {
      "cell_type": "code",
      "metadata": {
        "id": "Gw33a975yvP4",
        "colab_type": "code",
        "colab": {}
      },
      "source": [
        "x_train = train_image.values.reshape(3200, 64, 128)\n",
        "y_train = validation_image.values.reshape(800, 64, 128)"
      ],
      "execution_count": null,
      "outputs": []
    },
    {
      "cell_type": "markdown",
      "metadata": {
        "id": "OLJNP4Nw5WM7",
        "colab_type": "text"
      },
      "source": [
        "# Plot 2D spectrogram images"
      ]
    },
    {
      "cell_type": "code",
      "metadata": {
        "id": "17dLKF0y4rTQ",
        "colab_type": "code",
        "colab": {}
      },
      "source": [
        "classifiers = ['squiuggle', 'narrowband', 'noise', 'narrorbanddrd']\n",
        "for i in range(x_train.shape[0]):\n",
        "  image = x_train[np]"
      ],
      "execution_count": null,
      "outputs": []
    }
  ]
}